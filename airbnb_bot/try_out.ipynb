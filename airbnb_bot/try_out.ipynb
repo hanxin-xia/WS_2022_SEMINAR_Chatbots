{
 "cells": [
  {
   "cell_type": "code",
   "execution_count": 6,
   "metadata": {},
   "outputs": [
    {
     "name": "stdout",
     "output_type": "stream",
     "text": [
      "Found!\n"
     ]
    }
   ],
   "source": [
    "import string\n",
    "\n",
    "start_sent = input('Hallöchen! Bist du bereit für eine schöne Reise in Berlin?\\n')\n",
    "start_sent = start_sent.lower().translate(str.maketrans('', '', string.punctuation))  \n",
    "\n",
    "confirmation = ['ok', 'klar', 'ja', 'natürlich', 'sicher', 'doch']\n",
    "\n",
    "for i in range(len(confirmation)):\n",
    "    if  confirmation[i] in start_sent:\n",
    "        print('Found!')\n",
    "        break\n"
   ]
  },
  {
   "cell_type": "code",
   "execution_count": 2,
   "metadata": {},
   "outputs": [
    {
     "name": "stdout",
     "output_type": "stream",
     "text": [
      "Invalid input, use integer only!\n"
     ]
    }
   ],
   "source": [
    "answer = input('number')\n",
    "\n",
    "try:\n",
    "    for char in answer:\n",
    "        if char in \"0123456789\":\n",
    "            answer = False\n",
    "        else:\n",
    "            raise ValueError\n",
    "    print('starting text extraction...')\n",
    "except(ValueError):\n",
    "    answer = True\n",
    "    print(\"Invalid input, use integer only!\")"
   ]
  },
  {
   "cell_type": "code",
   "execution_count": null,
   "metadata": {},
   "outputs": [],
   "source": [
    "import sqlite3 as sql\n"
   ]
  }
 ],
 "metadata": {
  "kernelspec": {
   "display_name": "Python 3.9.12 ('base')",
   "language": "python",
   "name": "python3"
  },
  "language_info": {
   "codemirror_mode": {
    "name": "ipython",
    "version": 3
   },
   "file_extension": ".py",
   "mimetype": "text/x-python",
   "name": "python",
   "nbconvert_exporter": "python",
   "pygments_lexer": "ipython3",
   "version": "3.9.12"
  },
  "orig_nbformat": 4,
  "vscode": {
   "interpreter": {
    "hash": "c87829ec2a951f67f6bd9649c98e8b0ca9881f3984ae9804f187a301d57e50e3"
   }
  }
 },
 "nbformat": 4,
 "nbformat_minor": 2
}
