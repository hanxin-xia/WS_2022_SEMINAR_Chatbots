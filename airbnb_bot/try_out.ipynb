{
 "cells": [
  {
   "cell_type": "code",
   "execution_count": 57,
   "metadata": {},
   "outputs": [],
   "source": [
    "import sqlite3 as sql\n",
    "\n",
    "def query_sql(key, value, budget, stay_nights, columns, sql_file):\n",
    "    \"\"\"\n",
    "    Query a sqlite file for entries where \"key\" has the value \"value\".\n",
    "    Return the values corresponding to columns as a list.\n",
    "    \"\"\"\n",
    "\n",
    "    # set up sqlite connection\n",
    "    conn = sql.connect(sql_file)\n",
    "    c = conn.cursor()\n",
    "\n",
    "\n",
    "    # prepare query string that contains all three conditions\n",
    "    query_template = 'SELECT {columns} FROM listings WHERE {key} = \"{value}\" AND price <= {budget} AND minimum_nights <= {stay_nights}'\n",
    "    columns_string = ', '.join(columns)  # e.g. [location, price] -> 'location, price'\n",
    "    # replace the curly brackets in query_template with the corresponding info\n",
    "    query = query_template.format(columns=columns_string, key=key, value=value, budget=budget, stay_nights=stay_nights)\n",
    "\n",
    "    # execute query\n",
    "    r = c.execute(query)\n",
    "    # get results as list\n",
    "    results = r.fetchall()\n",
    "\n",
    "\n",
    "    # close connection\n",
    "    conn.close()\n",
    "\n",
    "    return results"
   ]
  },
  {
   "cell_type": "code",
   "execution_count": 58,
   "metadata": {},
   "outputs": [
    {
     "data": {
      "text/plain": [
       "[('Private Room in Berlin!', 'Prenzlauer Berg Nordwest', 15, 1),\n",
       " ('Cheap Room in Berlin', 'Prenzlauer Berg Südwest', 9, 1),\n",
       " ('20qm großes Zimmer zu Vermieten', 'Pankow Süd', 15, 1),\n",
       " ('Bright and Clean Berlin Apartment', 'Helmholtzplatz', 10, 1),\n",
       " ('gemütliches Zimmer mit Balkon', 'Blankenfelde/Niederschönhausen', 17, 1),\n",
       " ('International shared flat', 'Weißensee Ost', 16, 1),\n",
       " ('Habitación 24 m2 en piso 100 m2', 'Prenzlauer Berg Südwest', 18, 1),\n",
       " ('Sweet Bed inside DDRstyle Apartment', 'Prenzlauer Berg Südwest', 12, 1),\n",
       " ('Apartment with cat', 'Prenzlauer Berg Süd', 20, 1),\n",
       " ('Altbau-Charme und Hochbett-Freude', 'Prenzlauer Berg Nordwest', 20, 1)]"
      ]
     },
     "execution_count": 58,
     "metadata": {},
     "output_type": "execute_result"
    }
   ],
   "source": [
    "query_sql(key='neighbourhood_group', value='Pankow', budget=20, stay_nights=1, columns = ['name', 'neighbourhood', 'price', 'minimum_nights'], sql_file='listings.db')[:10]"
   ]
  },
  {
   "cell_type": "code",
   "execution_count": 82,
   "metadata": {},
   "outputs": [],
   "source": [
    "def get_budget():\n",
    "    budget = input(\"Was ist dein Budget pro Nacht?\\n\")\n",
    "    try:\n",
    "        for char in budget:\n",
    "            if char in \"0123456789\":\n",
    "                return int(budget)\n",
    "            else:\n",
    "                raise ValueError\n",
    "        return budget\n",
    "    except(ValueError):\n",
    "        print(\"Bitte gib nur eine Zahl ein, damit ich Mathematik machen kann!\")\n",
    "        return False"
   ]
  },
  {
   "cell_type": "code",
   "execution_count": 83,
   "metadata": {},
   "outputs": [
    {
     "name": "stdout",
     "output_type": "stream",
     "text": [
      "Bitte gib eine Zahl ein, damit ich Mathematik machen kann!\n"
     ]
    },
    {
     "data": {
      "text/plain": [
       "False"
      ]
     },
     "execution_count": 83,
     "metadata": {},
     "output_type": "execute_result"
    }
   ],
   "source": [
    "budget = get_budget()\n",
    "\n",
    "budget"
   ]
  }
 ],
 "metadata": {
  "kernelspec": {
   "display_name": "Python 3.9.12 ('base')",
   "language": "python",
   "name": "python3"
  },
  "language_info": {
   "codemirror_mode": {
    "name": "ipython",
    "version": 3
   },
   "file_extension": ".py",
   "mimetype": "text/x-python",
   "name": "python",
   "nbconvert_exporter": "python",
   "pygments_lexer": "ipython3",
   "version": "3.9.7"
  },
  "orig_nbformat": 4,
  "vscode": {
   "interpreter": {
    "hash": "c87829ec2a951f67f6bd9649c98e8b0ca9881f3984ae9804f187a301d57e50e3"
   }
  }
 },
 "nbformat": 4,
 "nbformat_minor": 2
}
