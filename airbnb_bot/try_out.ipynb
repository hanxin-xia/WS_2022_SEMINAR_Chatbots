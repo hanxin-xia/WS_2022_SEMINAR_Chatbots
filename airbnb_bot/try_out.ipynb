{
 "cells": [
  {
   "cell_type": "code",
   "execution_count": 22,
   "metadata": {},
   "outputs": [],
   "source": [
    "import sqlite3 as sql\n",
    "\n",
    "def query_sql(key, value, budget, stay_nights, wished_room_type, columns, sql_file):\n",
    "    \"\"\"\n",
    "    Query a sqlite file for entries where \"key\" has the value \"value\".\n",
    "    Return the values corresponding to columns as a list.\n",
    "    \"\"\"\n",
    "\n",
    "    # set up sqlite connection\n",
    "    conn = sql.connect(sql_file)\n",
    "    c = conn.cursor()\n",
    "\n",
    "\n",
    "    # prepare query string that contains all three conditions\n",
    "    query_template = 'SELECT {columns} FROM listings WHERE {key} = \"{value}\" AND price <= {budget} AND minimum_nights <= {stay_nights} AND room_type = \"{wished_room_type}\"'\n",
    "    columns_string = ', '.join(columns)  # e.g. [location, price] -> 'location, price'\n",
    "    # replace the curly brackets in query_template with the corresponding info\n",
    "    query = query_template.format(columns=columns_string, key=key, value=value, budget=budget, stay_nights=stay_nights, wished_room_type=wished_room_type)\n",
    "\n",
    "    # execute query\n",
    "    r = c.execute(query)\n",
    "    # get results as list\n",
    "    results = r.fetchall()\n",
    "\n",
    "\n",
    "    # close connection\n",
    "    conn.close()\n",
    "\n",
    "    return results"
   ]
  },
  {
   "cell_type": "code",
   "execution_count": 23,
   "metadata": {},
   "outputs": [
    {
     "data": {
      "text/plain": [
       "[('Bright and Clean Berlin Apartment',\n",
       "  'Helmholtzplatz',\n",
       "  10,\n",
       "  1,\n",
       "  'Entire home/apt'),\n",
       " ('Apartment with cat', 'Prenzlauer Berg Süd', 20, 1, 'Entire home/apt'),\n",
       " ('Helle 28qm Einzimmerwohnung in ruhiger Gegend.',\n",
       "  'Blankenfelde/Niederschönhausen',\n",
       "  20,\n",
       "  1,\n",
       "  'Entire home/apt')]"
      ]
     },
     "execution_count": 23,
     "metadata": {},
     "output_type": "execute_result"
    }
   ],
   "source": [
    "query_sql(key='neighbourhood_group', value='Pankow', budget=20, stay_nights=1,  wished_room_type=\"Entire home/apt\", columns = ['name', 'neighbourhood', 'price', 'minimum_nights', 'room_type'], sql_file='listings.db')[:10]"
   ]
  },
  {
   "cell_type": "code",
   "execution_count": 1,
   "metadata": {},
   "outputs": [],
   "source": [
    "def check_validity(var):\n",
    "    #var = input('Input a number (int) for the Episode you want to check: ')\n",
    "    try:\n",
    "        for char in var:\n",
    "            if char in \"0123456789\":\n",
    "                continue\n",
    "            else:\n",
    "                raise ValueError\n",
    "        return True\n",
    "    except(ValueError):\n",
    "        print(\"Invalid input, use integer only!\")"
   ]
  },
  {
   "cell_type": "code",
   "execution_count": 6,
   "metadata": {},
   "outputs": [],
   "source": [
    "while True:\n",
    "    var = input('Input a number (int) for the Episode you want to check: ')\n",
    "    if check_validity(var) == True:\n",
    "        break\n",
    "    else:\n",
    "        var = input('Input a number (int) for the Episode you want to check: ')\n",
    "\n",
    "var = int(var)"
   ]
  },
  {
   "cell_type": "code",
   "execution_count": 7,
   "metadata": {},
   "outputs": [
    {
     "data": {
      "text/plain": [
       "65"
      ]
     },
     "execution_count": 7,
     "metadata": {},
     "output_type": "execute_result"
    }
   ],
   "source": [
    "var"
   ]
  },
  {
   "cell_type": "code",
   "execution_count": null,
   "metadata": {},
   "outputs": [],
   "source": [
    "while True:\n",
    "    var = input('Input a number (int) for the Episode you want to check: ')\n",
    "    if check_validity(var) == True:\n",
    "        break\n",
    "    else:\n",
    "        var = input('Input a number (int) for the Episode you want to check: ')"
   ]
  },
  {
   "cell_type": "code",
   "execution_count": 8,
   "metadata": {},
   "outputs": [],
   "source": [
    "import re\n",
    "\n",
    "room_regex = [\n",
    "    (r'wohnung', 'Entire home/apt'),\n",
    "    (r'haus', 'Entire home/apt'),\n",
    "    (r'apartment', 'Entire home/apt'),\n",
    "    (r'familie', 'Entire home/apt'),\n",
    "    (r'raum', 'Private room'),\n",
    "    (r'zimmer', 'Private room'),\n",
    "    (r'wg', 'Private room'),\n",
    "    (r'hostel', 'Private room'),\n",
    "    (r'geteilt', 'Private room')\n",
    "]\n",
    "\n",
    "def get_room_type(sentence, regex_list=room_regex):\n",
    "    for regex, value in regex_list:\n",
    "        match = re.search(regex, sentence)\n",
    "        if match:\n",
    "            # if a regex matches the input: return the corresponding value\n",
    "            return value\n",
    "    # return None if no regular expression matches the input\n",
    "    return None\n"
   ]
  },
  {
   "cell_type": "code",
   "execution_count": 10,
   "metadata": {},
   "outputs": [
    {
     "data": {
      "text/plain": [
       "'Private room'"
      ]
     },
     "execution_count": 10,
     "metadata": {},
     "output_type": "execute_result"
    }
   ],
   "source": [
    "# get wished residence type\n",
    "query_res_type = input('Welche Residenzart gefällt dir besser? Ganzes Haus/Apartment oder nur ein privates Zimmer? ')\n",
    "# normalize to lowercase\n",
    "query_res_type = query_res_type.lower()\n",
    "wished_room_type = get_room_type(query_res_type, regex_list=room_regex)\n"
   ]
  },
  {
   "cell_type": "code",
   "execution_count": 1,
   "metadata": {},
   "outputs": [
    {
     "data": {
      "text/html": [
       "<div>\n",
       "<style scoped>\n",
       "    .dataframe tbody tr th:only-of-type {\n",
       "        vertical-align: middle;\n",
       "    }\n",
       "\n",
       "    .dataframe tbody tr th {\n",
       "        vertical-align: top;\n",
       "    }\n",
       "\n",
       "    .dataframe thead th {\n",
       "        text-align: right;\n",
       "    }\n",
       "</style>\n",
       "<table border=\"1\" class=\"dataframe\">\n",
       "  <thead>\n",
       "    <tr style=\"text-align: right;\">\n",
       "      <th></th>\n",
       "      <th>id</th>\n",
       "      <th>name</th>\n",
       "      <th>host_id</th>\n",
       "      <th>host_name</th>\n",
       "      <th>neighbourhood_group</th>\n",
       "      <th>neighbourhood</th>\n",
       "      <th>latitude</th>\n",
       "      <th>longitude</th>\n",
       "      <th>room_type</th>\n",
       "      <th>price</th>\n",
       "      <th>minimum_nights</th>\n",
       "      <th>number_of_reviews</th>\n",
       "      <th>last_review</th>\n",
       "      <th>reviews_per_month</th>\n",
       "      <th>calculated_host_listings_count</th>\n",
       "      <th>availability_365</th>\n",
       "      <th>number_of_reviews_ltm</th>\n",
       "      <th>license</th>\n",
       "    </tr>\n",
       "  </thead>\n",
       "  <tbody>\n",
       "    <tr>\n",
       "      <th>0</th>\n",
       "      <td>652868795892201022</td>\n",
       "      <td>Kleine Auszeit? Oder Business-Trip? Alles mögl...</td>\n",
       "      <td>21708794</td>\n",
       "      <td>Familie Sek</td>\n",
       "      <td>Tempelhof - Schöneberg</td>\n",
       "      <td>Lichtenrade</td>\n",
       "      <td>52.357652</td>\n",
       "      <td>13.399098</td>\n",
       "      <td>Entire home/apt</td>\n",
       "      <td>88</td>\n",
       "      <td>1</td>\n",
       "      <td>0</td>\n",
       "      <td>NaN</td>\n",
       "      <td>NaN</td>\n",
       "      <td>1</td>\n",
       "      <td>6</td>\n",
       "      <td>0</td>\n",
       "      <td>NaN</td>\n",
       "    </tr>\n",
       "    <tr>\n",
       "      <th>1</th>\n",
       "      <td>27080612</td>\n",
       "      <td>Apartment with Living/Sleeping Room &amp; own Kitchen</td>\n",
       "      <td>130216168</td>\n",
       "      <td>Tommy</td>\n",
       "      <td>Marzahn - Hellersdorf</td>\n",
       "      <td>Mahlsdorf</td>\n",
       "      <td>52.520060</td>\n",
       "      <td>13.659560</td>\n",
       "      <td>Entire home/apt</td>\n",
       "      <td>60</td>\n",
       "      <td>2</td>\n",
       "      <td>126</td>\n",
       "      <td>2022-09-11</td>\n",
       "      <td>2.54</td>\n",
       "      <td>2</td>\n",
       "      <td>163</td>\n",
       "      <td>18</td>\n",
       "      <td>NaN</td>\n",
       "    </tr>\n",
       "    <tr>\n",
       "      <th>2</th>\n",
       "      <td>29077694</td>\n",
       "      <td>Wohnung im Grünen nah an der Metropole</td>\n",
       "      <td>219116245</td>\n",
       "      <td>Tilmann</td>\n",
       "      <td>Steglitz - Zehlendorf</td>\n",
       "      <td>Zehlendorf  Südwest</td>\n",
       "      <td>52.412320</td>\n",
       "      <td>13.207150</td>\n",
       "      <td>Entire home/apt</td>\n",
       "      <td>36</td>\n",
       "      <td>8</td>\n",
       "      <td>29</td>\n",
       "      <td>2022-05-29</td>\n",
       "      <td>0.63</td>\n",
       "      <td>1</td>\n",
       "      <td>6</td>\n",
       "      <td>6</td>\n",
       "      <td>NaN</td>\n",
       "    </tr>\n",
       "    <tr>\n",
       "      <th>3</th>\n",
       "      <td>665648367391379321</td>\n",
       "      <td>Schöne Eigentumswohnung mit Balkon</td>\n",
       "      <td>106965422</td>\n",
       "      <td>Paul</td>\n",
       "      <td>Steglitz - Zehlendorf</td>\n",
       "      <td>Drakestr.</td>\n",
       "      <td>52.402144</td>\n",
       "      <td>13.273865</td>\n",
       "      <td>Entire home/apt</td>\n",
       "      <td>120</td>\n",
       "      <td>1</td>\n",
       "      <td>0</td>\n",
       "      <td>NaN</td>\n",
       "      <td>NaN</td>\n",
       "      <td>1</td>\n",
       "      <td>257</td>\n",
       "      <td>0</td>\n",
       "      <td>Available with a mobility lease only (\"bail mo...</td>\n",
       "    </tr>\n",
       "    <tr>\n",
       "      <th>4</th>\n",
       "      <td>37738004</td>\n",
       "      <td>Remise Villa Erica Superior Apartment</td>\n",
       "      <td>42048631</td>\n",
       "      <td>Archibald</td>\n",
       "      <td>Steglitz - Zehlendorf</td>\n",
       "      <td>Drakestr.</td>\n",
       "      <td>52.410150</td>\n",
       "      <td>13.292070</td>\n",
       "      <td>Entire home/apt</td>\n",
       "      <td>110</td>\n",
       "      <td>5</td>\n",
       "      <td>1</td>\n",
       "      <td>2019-10-26</td>\n",
       "      <td>0.03</td>\n",
       "      <td>8</td>\n",
       "      <td>160</td>\n",
       "      <td>0</td>\n",
       "      <td>NaN</td>\n",
       "    </tr>\n",
       "  </tbody>\n",
       "</table>\n",
       "</div>"
      ],
      "text/plain": [
       "                   id                                               name  \\\n",
       "0  652868795892201022  Kleine Auszeit? Oder Business-Trip? Alles mögl...   \n",
       "1            27080612  Apartment with Living/Sleeping Room & own Kitchen   \n",
       "2            29077694             Wohnung im Grünen nah an der Metropole   \n",
       "3  665648367391379321                 Schöne Eigentumswohnung mit Balkon   \n",
       "4            37738004              Remise Villa Erica Superior Apartment   \n",
       "\n",
       "     host_id    host_name     neighbourhood_group        neighbourhood  \\\n",
       "0   21708794  Familie Sek  Tempelhof - Schöneberg          Lichtenrade   \n",
       "1  130216168        Tommy   Marzahn - Hellersdorf            Mahlsdorf   \n",
       "2  219116245      Tilmann   Steglitz - Zehlendorf  Zehlendorf  Südwest   \n",
       "3  106965422         Paul   Steglitz - Zehlendorf            Drakestr.   \n",
       "4   42048631    Archibald   Steglitz - Zehlendorf            Drakestr.   \n",
       "\n",
       "    latitude  longitude        room_type  price  minimum_nights  \\\n",
       "0  52.357652  13.399098  Entire home/apt     88               1   \n",
       "1  52.520060  13.659560  Entire home/apt     60               2   \n",
       "2  52.412320  13.207150  Entire home/apt     36               8   \n",
       "3  52.402144  13.273865  Entire home/apt    120               1   \n",
       "4  52.410150  13.292070  Entire home/apt    110               5   \n",
       "\n",
       "   number_of_reviews last_review  reviews_per_month  \\\n",
       "0                  0         NaN                NaN   \n",
       "1                126  2022-09-11               2.54   \n",
       "2                 29  2022-05-29               0.63   \n",
       "3                  0         NaN                NaN   \n",
       "4                  1  2019-10-26               0.03   \n",
       "\n",
       "   calculated_host_listings_count  availability_365  number_of_reviews_ltm  \\\n",
       "0                               1                 6                      0   \n",
       "1                               2               163                     18   \n",
       "2                               1                 6                      6   \n",
       "3                               1               257                      0   \n",
       "4                               8               160                      0   \n",
       "\n",
       "                                             license  \n",
       "0                                                NaN  \n",
       "1                                                NaN  \n",
       "2                                                NaN  \n",
       "3  Available with a mobility lease only (\"bail mo...  \n",
       "4                                                NaN  "
      ]
     },
     "execution_count": 1,
     "metadata": {},
     "output_type": "execute_result"
    }
   ],
   "source": [
    "import pandas as pd\n",
    "\n",
    "df = pd.read_csv(\"listings.csv\")\n",
    "\n",
    "df.head()"
   ]
  },
  {
   "cell_type": "code",
   "execution_count": 2,
   "metadata": {},
   "outputs": [
    {
     "data": {
      "text/plain": [
       "{'Entire home/apt', 'Hotel room', 'Private room', 'Shared room'}"
      ]
     },
     "execution_count": 2,
     "metadata": {},
     "output_type": "execute_result"
    }
   ],
   "source": [
    "set(df['room_type'])"
   ]
  }
 ],
 "metadata": {
  "kernelspec": {
   "display_name": "Python 3.9.12 ('base')",
   "language": "python",
   "name": "python3"
  },
  "language_info": {
   "codemirror_mode": {
    "name": "ipython",
    "version": 3
   },
   "file_extension": ".py",
   "mimetype": "text/x-python",
   "name": "python",
   "nbconvert_exporter": "python",
   "pygments_lexer": "ipython3",
   "version": "3.9.12"
  },
  "orig_nbformat": 4,
  "vscode": {
   "interpreter": {
    "hash": "58e7b30fe3eb6131f6fb854769a55f6c3e86113a908ff0d7aa2e1373282a89af"
   }
  }
 },
 "nbformat": 4,
 "nbformat_minor": 2
}
