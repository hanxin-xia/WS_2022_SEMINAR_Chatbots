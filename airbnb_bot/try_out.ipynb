{
 "cells": [
  {
   "cell_type": "code",
   "execution_count": 22,
   "metadata": {},
   "outputs": [],
   "source": [
    "import sqlite3 as sql\n",
    "\n",
    "def query_sql(key, value, budget, stay_nights, wished_room_type, columns, sql_file):\n",
    "    \"\"\"\n",
    "    Query a sqlite file for entries where \"key\" has the value \"value\".\n",
    "    Return the values corresponding to columns as a list.\n",
    "    \"\"\"\n",
    "\n",
    "    # set up sqlite connection\n",
    "    conn = sql.connect(sql_file)\n",
    "    c = conn.cursor()\n",
    "\n",
    "\n",
    "    # prepare query string that contains all three conditions\n",
    "    query_template = 'SELECT {columns} FROM listings WHERE {key} = \"{value}\" AND price <= {budget} AND minimum_nights <= {stay_nights} AND room_type = \"{wished_room_type}\"'\n",
    "    columns_string = ', '.join(columns)  # e.g. [location, price] -> 'location, price'\n",
    "    # replace the curly brackets in query_template with the corresponding info\n",
    "    query = query_template.format(columns=columns_string, key=key, value=value, budget=budget, stay_nights=stay_nights, wished_room_type=wished_room_type)\n",
    "\n",
    "    # execute query\n",
    "    r = c.execute(query)\n",
    "    # get results as list\n",
    "    results = r.fetchall()\n",
    "\n",
    "\n",
    "    # close connection\n",
    "    conn.close()\n",
    "\n",
    "    return results"
   ]
  },
  {
   "cell_type": "code",
   "execution_count": 23,
   "metadata": {},
   "outputs": [
    {
     "data": {
      "text/plain": [
       "[('Bright and Clean Berlin Apartment',\n",
       "  'Helmholtzplatz',\n",
       "  10,\n",
       "  1,\n",
       "  'Entire home/apt'),\n",
       " ('Apartment with cat', 'Prenzlauer Berg Süd', 20, 1, 'Entire home/apt'),\n",
       " ('Helle 28qm Einzimmerwohnung in ruhiger Gegend.',\n",
       "  'Blankenfelde/Niederschönhausen',\n",
       "  20,\n",
       "  1,\n",
       "  'Entire home/apt')]"
      ]
     },
     "execution_count": 23,
     "metadata": {},
     "output_type": "execute_result"
    }
   ],
   "source": [
    "query_sql(key='neighbourhood_group', value='Pankow', budget=20, stay_nights=1,  wished_room_type=\"Entire home/apt\", columns = ['name', 'neighbourhood', 'price', 'minimum_nights', 'room_type'], sql_file='listings.db')[:10]"
   ]
  },
  {
   "cell_type": "code",
   "execution_count": 1,
   "metadata": {},
   "outputs": [],
   "source": [
    "def check_validity(var):\n",
    "    #var = input('Input a number (int) for the Episode you want to check: ')\n",
    "    try:\n",
    "        for char in var:\n",
    "            if char in \"0123456789\":\n",
    "                continue\n",
    "            else:\n",
    "                raise ValueError\n",
    "        return True\n",
    "    except(ValueError):\n",
    "        print(\"Invalid input, use integer only!\")"
   ]
  },
  {
   "cell_type": "code",
   "execution_count": 6,
   "metadata": {},
   "outputs": [],
   "source": [
    "while True:\n",
    "    var = input('Input a number (int) for the Episode you want to check: ')\n",
    "    if check_validity(var) == True:\n",
    "        break\n",
    "    else:\n",
    "        var = input('Input a number (int) for the Episode you want to check: ')\n",
    "\n",
    "var = int(var)"
   ]
  },
  {
   "cell_type": "code",
   "execution_count": 7,
   "metadata": {},
   "outputs": [
    {
     "data": {
      "text/plain": [
       "65"
      ]
     },
     "execution_count": 7,
     "metadata": {},
     "output_type": "execute_result"
    }
   ],
   "source": [
    "var"
   ]
  },
  {
   "cell_type": "code",
   "execution_count": null,
   "metadata": {},
   "outputs": [],
   "source": [
    "while True:\n",
    "    var = input('Input a number (int) for the Episode you want to check: ')\n",
    "    if check_validity(var) == True:\n",
    "        break\n",
    "    else:\n",
    "        var = input('Input a number (int) for the Episode you want to check: ')"
   ]
  },
  {
   "cell_type": "code",
   "execution_count": 8,
   "metadata": {},
   "outputs": [],
   "source": [
    "import re\n",
    "\n",
    "room_regex = [\n",
    "    (r'wohnung', 'Entire home/apt'),\n",
    "    (r'haus', 'Entire home/apt'),\n",
    "    (r'apartment', 'Entire home/apt'),\n",
    "    (r'familie', 'Entire home/apt'),\n",
    "    (r'raum', 'Private room'),\n",
    "    (r'zimmer', 'Private room'),\n",
    "    (r'wg', 'Private room'),\n",
    "    (r'hostel', 'Private room'),\n",
    "    (r'geteilt', 'Private room')\n",
    "]\n",
    "\n",
    "def get_room_type(sentence, regex_list=room_regex):\n",
    "    for regex, value in regex_list:\n",
    "        match = re.search(regex, sentence)\n",
    "        if match:\n",
    "            # if a regex matches the input: return the corresponding value\n",
    "            return value\n",
    "    # return None if no regular expression matches the input\n",
    "    return None\n"
   ]
  },
  {
   "cell_type": "code",
   "execution_count": 10,
   "metadata": {},
   "outputs": [
    {
     "data": {
      "text/plain": [
       "'Private room'"
      ]
     },
     "execution_count": 10,
     "metadata": {},
     "output_type": "execute_result"
    }
   ],
   "source": [
    "            # get wished residence type\n",
    "            query_res_type = input('Welche Residenzart gefällt dir besser? Ganzes Haus/Apartment oder nur ein privates Zimmer? ')\n",
    "            # normalize to lowercase\n",
    "            query_res_type = query_res_type.lower()\n",
    "            wished_room_type = get_room_type(sentence, regex_list=room_regex)\n"
   ]
  }
 ],
 "metadata": {
  "kernelspec": {
   "display_name": "Python 3.9.12 ('base')",
   "language": "python",
   "name": "python3"
  },
  "language_info": {
   "codemirror_mode": {
    "name": "ipython",
    "version": 3
   },
   "file_extension": ".py",
   "mimetype": "text/x-python",
   "name": "python",
   "nbconvert_exporter": "python",
   "pygments_lexer": "ipython3",
   "version": "3.9.12"
  },
  "orig_nbformat": 4,
  "vscode": {
   "interpreter": {
    "hash": "c87829ec2a951f67f6bd9649c98e8b0ca9881f3984ae9804f187a301d57e50e3"
   }
  }
 },
 "nbformat": 4,
 "nbformat_minor": 2
}
